{
 "cells": [
  {
   "cell_type": "markdown",
   "metadata": {},
   "source": [
    "# Jakub Bandurski, Michał Bryzik, Kacper Gruca\n",
    "## Text Mining and Social Media Mining Project"
   ]
  },
  {
   "cell_type": "code",
   "execution_count": 1,
   "metadata": {},
   "outputs": [],
   "source": [
    "from huggingface_hub import hf_hub_download\n",
    "from datasets import load_dataset\n",
    "import datasets\n",
    "import pandas as pd"
   ]
  },
  {
   "cell_type": "code",
   "execution_count": 2,
   "metadata": {},
   "outputs": [],
   "source": [
    "df = datasets.load_dataset('reddit_tifu','long', split='train')\n",
    "df = df.to_pandas()"
   ]
  },
  {
   "cell_type": "code",
   "execution_count": 3,
   "metadata": {},
   "outputs": [
    {
     "data": {
      "text/html": [
       "<div>\n",
       "<style scoped>\n",
       "    .dataframe tbody tr th:only-of-type {\n",
       "        vertical-align: middle;\n",
       "    }\n",
       "\n",
       "    .dataframe tbody tr th {\n",
       "        vertical-align: top;\n",
       "    }\n",
       "\n",
       "    .dataframe thead th {\n",
       "        text-align: right;\n",
       "    }\n",
       "</style>\n",
       "<table border=\"1\" class=\"dataframe\">\n",
       "  <thead>\n",
       "    <tr style=\"text-align: right;\">\n",
       "      <th></th>\n",
       "      <th>ups</th>\n",
       "      <th>num_comments</th>\n",
       "      <th>upvote_ratio</th>\n",
       "      <th>score</th>\n",
       "      <th>documents</th>\n",
       "      <th>tldr</th>\n",
       "      <th>title</th>\n",
       "    </tr>\n",
       "  </thead>\n",
       "  <tbody>\n",
       "    <tr>\n",
       "      <th>0</th>\n",
       "      <td>115.0</td>\n",
       "      <td>23.0</td>\n",
       "      <td>0.88</td>\n",
       "      <td>115.0</td>\n",
       "      <td>this actually happened a couple of years ago. ...</td>\n",
       "      <td>confuse a 5th grade girl for a boy in front of...</td>\n",
       "      <td>gender-stereotyping</td>\n",
       "    </tr>\n",
       "    <tr>\n",
       "      <th>1</th>\n",
       "      <td>16.0</td>\n",
       "      <td>12.0</td>\n",
       "      <td>0.79</td>\n",
       "      <td>16.0</td>\n",
       "      <td>it was last october, but i'm feeling the fall-...</td>\n",
       "      <td>i found my estranged dad, thought i loved him ...</td>\n",
       "      <td>telling my dad that i love him.</td>\n",
       "    </tr>\n",
       "    <tr>\n",
       "      <th>2</th>\n",
       "      <td>55.0</td>\n",
       "      <td>10.0</td>\n",
       "      <td>0.85</td>\n",
       "      <td>55.0</td>\n",
       "      <td>so i had the brilliant idea to use veet hair r...</td>\n",
       "      <td>had my balls burned by sauron and was left dev...</td>\n",
       "      <td>i was deveeted...</td>\n",
       "    </tr>\n",
       "    <tr>\n",
       "      <th>3</th>\n",
       "      <td>90.0</td>\n",
       "      <td>20.0</td>\n",
       "      <td>0.92</td>\n",
       "      <td>90.0</td>\n",
       "      <td>today i was going to have a bath after a long ...</td>\n",
       "      <td>peppermint + bath = burning cold ladybits.</td>\n",
       "      <td>wanting a pepperminty bath.</td>\n",
       "    </tr>\n",
       "    <tr>\n",
       "      <th>4</th>\n",
       "      <td>81.0</td>\n",
       "      <td>18.0</td>\n",
       "      <td>0.79</td>\n",
       "      <td>81.0</td>\n",
       "      <td>i haven't had a bath in practically years so, ...</td>\n",
       "      <td>got too high and too hot in the bath, almost c...</td>\n",
       "      <td>having a spliff in the bath.</td>\n",
       "    </tr>\n",
       "  </tbody>\n",
       "</table>\n",
       "</div>"
      ],
      "text/plain": [
       "     ups  num_comments  upvote_ratio  score  \\\n",
       "0  115.0          23.0          0.88  115.0   \n",
       "1   16.0          12.0          0.79   16.0   \n",
       "2   55.0          10.0          0.85   55.0   \n",
       "3   90.0          20.0          0.92   90.0   \n",
       "4   81.0          18.0          0.79   81.0   \n",
       "\n",
       "                                           documents  \\\n",
       "0  this actually happened a couple of years ago. ...   \n",
       "1  it was last october, but i'm feeling the fall-...   \n",
       "2  so i had the brilliant idea to use veet hair r...   \n",
       "3  today i was going to have a bath after a long ...   \n",
       "4  i haven't had a bath in practically years so, ...   \n",
       "\n",
       "                                                tldr  \\\n",
       "0  confuse a 5th grade girl for a boy in front of...   \n",
       "1  i found my estranged dad, thought i loved him ...   \n",
       "2  had my balls burned by sauron and was left dev...   \n",
       "3         peppermint + bath = burning cold ladybits.   \n",
       "4  got too high and too hot in the bath, almost c...   \n",
       "\n",
       "                             title  \n",
       "0              gender-stereotyping  \n",
       "1  telling my dad that i love him.  \n",
       "2                i was deveeted...  \n",
       "3      wanting a pepperminty bath.  \n",
       "4     having a spliff in the bath.  "
      ]
     },
     "execution_count": 3,
     "metadata": {},
     "output_type": "execute_result"
    }
   ],
   "source": [
    "df.head()"
   ]
  },
  {
   "cell_type": "code",
   "execution_count": 5,
   "metadata": {},
   "outputs": [],
   "source": [
    "df.to_csv('../data/tifu.csv', index=False)"
   ]
  }
 ],
 "metadata": {
  "kernelspec": {
   "display_name": "Python 3",
   "language": "python",
   "name": "python3"
  },
  "language_info": {
   "codemirror_mode": {
    "name": "ipython",
    "version": 3
   },
   "file_extension": ".py",
   "mimetype": "text/x-python",
   "name": "python",
   "nbconvert_exporter": "python",
   "pygments_lexer": "ipython3",
   "version": "3.11.0"
  }
 },
 "nbformat": 4,
 "nbformat_minor": 2
}
